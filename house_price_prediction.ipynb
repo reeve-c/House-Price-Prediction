{
 "cells": [
  {
   "cell_type": "markdown",
   "id": "45420490",
   "metadata": {},
   "source": [
    "<br><font size=\"6\" face=\"Verdana\" color='white'>HOUSE PRICE PREDICTION</font><br>\n",
    "<br><font size=\"4\" face=\"Verdana\" color='white'>by Reeve Chaitanya</font><br><br>"
   ]
  },
  {
   "cell_type": "code",
   "execution_count": 1,
   "id": "f37b188f",
   "metadata": {},
   "outputs": [],
   "source": [
    "import pandas as pd\n",
    "import numpy as np\n",
    "from sklearn.metrics import r2_score"
   ]
  },
  {
   "cell_type": "markdown",
   "id": "f7838d7a",
   "metadata": {},
   "source": [
    "<br><font size=\"4\" face=\"Verdana\" color='white'>DATA PREPROCESSING</font><br><br>"
   ]
  },
  {
   "cell_type": "code",
   "execution_count": 2,
   "id": "bfa9b613",
   "metadata": {},
   "outputs": [],
   "source": [
    "# Importing the Dataset\n",
    "dataset = pd.read_csv('housing_data.csv')"
   ]
  },
  {
   "cell_type": "code",
   "execution_count": 3,
   "id": "a569f993",
   "metadata": {},
   "outputs": [],
   "source": [
    "# Taking Care of Missing Data\n",
    "dataset =  dataset.dropna() "
   ]
  },
  {
   "cell_type": "code",
   "execution_count": 4,
   "id": "70571360",
   "metadata": {},
   "outputs": [],
   "source": [
    "# Splitting the Dataset into Target and Input Variables\n",
    "X = dataset.drop(['median_house_value',],axis=1).values\n",
    "Y = dataset['median_house_value'].values.reshape(-1,1)"
   ]
  },
  {
   "cell_type": "code",
   "execution_count": 5,
   "id": "c47cbec8",
   "metadata": {},
   "outputs": [],
   "source": [
    "# Scaling the Data\n",
    "from sklearn.preprocessing import MinMaxScaler\n",
    "scaler = MinMaxScaler()\n",
    "X[:,:8] = scaler.fit_transform(X[:,:8])\n",
    "Y = scaler.fit_transform(Y)"
   ]
  },
  {
   "cell_type": "code",
   "execution_count": 6,
   "id": "139b3578",
   "metadata": {},
   "outputs": [],
   "source": [
    "# Encoding Categorical Variables\n",
    "from sklearn.preprocessing import OneHotEncoder\n",
    "from sklearn.compose import ColumnTransformer\n",
    "ct = ColumnTransformer(transformers=[('encoder',OneHotEncoder(),[8])],remainder='passthrough')\n",
    "X = ct.fit_transform(X)"
   ]
  },
  {
   "cell_type": "code",
   "execution_count": 7,
   "id": "123d4a58",
   "metadata": {},
   "outputs": [],
   "source": [
    "# Splitting the Dataset into Train and Test Sets\n",
    "from sklearn.model_selection import train_test_split\n",
    "X_train, X_test, Y_train, Y_test = train_test_split(X,Y,test_size=0.3)"
   ]
  },
  {
   "cell_type": "markdown",
   "id": "1866e51b",
   "metadata": {},
   "source": [
    "<br><font size=\"4\" face=\"Verdana\" color='white'>LINEAR REGRESSION</font><br><br>"
   ]
  },
  {
   "cell_type": "code",
   "execution_count": 8,
   "id": "1aae90bc",
   "metadata": {},
   "outputs": [
    {
     "name": "stdout",
     "output_type": "stream",
     "text": [
      "Linear Regression \n",
      "Accuracy: 0.6414047179410604\n"
     ]
    }
   ],
   "source": [
    "from sklearn.linear_model import LinearRegression\n",
    "\n",
    "# Initializing the Model\n",
    "lr = LinearRegression()\n",
    "\n",
    "# Fitting the Training Data \n",
    "lr.fit(X_train,Y_train)\n",
    "\n",
    "# Predicting on Test Set\n",
    "Y_pred = lr.predict(X_test)\n",
    "\n",
    "# Evaluating the Model\n",
    "lr_ac = r2_score(Y_test, Y_pred)\n",
    "print(f'Linear Regression \\nAccuracy: {lr_ac}')"
   ]
  },
  {
   "cell_type": "markdown",
   "id": "b9ff647a",
   "metadata": {},
   "source": [
    "<br><font size=\"4\" face=\"Verdana\" color='white'>SUPPORT VECTOR REGRESSOR</font><br><br>"
   ]
  },
  {
   "cell_type": "code",
   "execution_count": 9,
   "id": "f39302b7",
   "metadata": {},
   "outputs": [
    {
     "name": "stdout",
     "output_type": "stream",
     "text": [
      "Support Vector Regressor \n",
      "Accuracy: 0.7215418088920349\n"
     ]
    }
   ],
   "source": [
    "from sklearn.svm import SVR\n",
    "\n",
    "# Initializing the Model\n",
    "svr = SVR(kernel = 'rbf')\n",
    "\n",
    "# Fitting the Training Data \n",
    "svr.fit(X_train,Y_train.ravel())\n",
    "\n",
    "# Predicting on Test Set\n",
    "Y_pred = svr.predict(X_test)\n",
    "\n",
    "# Evaluating the Model\n",
    "svr_ac = r2_score(Y_test, Y_pred)\n",
    "print(f'Support Vector Regressor \\nAccuracy: {svr_ac}')"
   ]
  },
  {
   "cell_type": "markdown",
   "id": "6a239c09",
   "metadata": {},
   "source": [
    "<br><font size=\"4\" face=\"Verdana\" color='white'>DECISION TREE REGRESSOR</font><br><br>"
   ]
  },
  {
   "cell_type": "code",
   "execution_count": 10,
   "id": "213fc0f2",
   "metadata": {},
   "outputs": [
    {
     "name": "stdout",
     "output_type": "stream",
     "text": [
      "Decision Tree Regressor \n",
      "Accuracy: 0.6257776772554392\n"
     ]
    }
   ],
   "source": [
    "from sklearn.tree import DecisionTreeRegressor\n",
    "\n",
    "# Initializing the Model\n",
    "dtc = DecisionTreeRegressor()\n",
    "\n",
    "# Fitting the Training Data \n",
    "dtc.fit(X_train,Y_train)\n",
    "\n",
    "# Predicting on Test Set\n",
    "Y_pred = dtc.predict(X_test)\n",
    "\n",
    "# Evaluating the Model\n",
    "dtr_ac = r2_score(Y_test, Y_pred)\n",
    "print(f'Decision Tree Regressor \\nAccuracy: {dtr_ac}')"
   ]
  },
  {
   "cell_type": "markdown",
   "id": "d69401d1",
   "metadata": {},
   "source": [
    "<br><font size=\"4\" face=\"Verdana\" color='white'>RANDOM FOREST REGRESSOR</font><br><br>"
   ]
  },
  {
   "cell_type": "code",
   "execution_count": 11,
   "id": "e8371e3b",
   "metadata": {
    "scrolled": true
   },
   "outputs": [
    {
     "name": "stdout",
     "output_type": "stream",
     "text": [
      "Random Forest Regressor \n",
      "Accuracy: 0.817650193521409\n"
     ]
    }
   ],
   "source": [
    "from sklearn.ensemble import RandomForestRegressor\n",
    "\n",
    "# Initializing the Model\n",
    "rfr = RandomForestRegressor(n_estimators=50)\n",
    "\n",
    "# Fitting the Training Data \n",
    "rfr.fit(X_train,Y_train.ravel())\n",
    "\n",
    "# Predicting on Test Set\n",
    "Y_pred = rfr.predict(X_test)\n",
    "\n",
    "# Evaluating the Model\n",
    "rfr_ac = r2_score(Y_test, Y_pred)\n",
    "print(f'Random Forest Regressor \\nAccuracy: {rfr_ac}')"
   ]
  },
  {
   "cell_type": "markdown",
   "id": "c50b8038",
   "metadata": {},
   "source": [
    "<br><font size=\"4\" face=\"Verdana\" color='white'>COMPARING ACCURACY</font><br><br>"
   ]
  },
  {
   "cell_type": "code",
   "execution_count": 63,
   "id": "78142b26",
   "metadata": {},
   "outputs": [
    {
     "name": "stdout",
     "output_type": "stream",
     "text": [
      "Comparing Accuracy of all the Models:-\n",
      "\n",
      "                      Model Accuracy\n",
      "0         Linear Regression     64 %\n",
      "1             SVM Regressor     72 %\n",
      "2  Decision Tree Classifier     62 %\n",
      "3   Random Forest Regressor     81 %\n"
     ]
    }
   ],
   "source": [
    "print(\"Comparing Accuracy of all the Models:-\\n\")\n",
    "print(pd.DataFrame(zip(['Linear Regression','SVM Regressor','Decision Tree Classifier','Random Forest Regressor'],[f'{int(lr_ac * 100)} %', f'{int(svr_ac * 100)} %', f'{int(dtr_ac * 100)} %',\n",
    "                            f'{int(rfr_ac * 100)} %']),columns=['Model','Accuracy']))"
   ]
  }
 ],
 "metadata": {
  "kernelspec": {
   "display_name": "Python 3 (ipykernel)",
   "language": "python",
   "name": "python3"
  },
  "language_info": {
   "codemirror_mode": {
    "name": "ipython",
    "version": 3
   },
   "file_extension": ".py",
   "mimetype": "text/x-python",
   "name": "python",
   "nbconvert_exporter": "python",
   "pygments_lexer": "ipython3",
   "version": "3.8.11"
  }
 },
 "nbformat": 4,
 "nbformat_minor": 5
}
